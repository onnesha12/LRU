{
  "nbformat": 4,
  "nbformat_minor": 0,
  "metadata": {
    "colab": {
      "provenance": []
    },
    "kernelspec": {
      "name": "python3",
      "display_name": "Python 3"
    },
    "language_info": {
      "name": "python"
    }
  },
  "cells": [
    {
      "cell_type": "code",
      "execution_count": 6,
      "metadata": {
        "colab": {
          "base_uri": "https://localhost:8080/"
        },
        "id": "iu8bkviLK9n8",
        "outputId": "cbb9a9e1-6745-47b8-868b-a1b47e1752d0"
      },
      "outputs": [
        {
          "output_type": "stream",
          "name": "stdout",
          "text": [
            "page/tFrames\n",
            "7 \t [7]\n",
            "0 \t [7, 0]\n",
            "1 \t [7, 0, 1]\n",
            "2 \t [0, 1, 2]\n",
            "0 \t [1, 2, 0]\n",
            "3 \t [2, 0, 3]\n",
            "0 \t [2, 3, 0]\n",
            "4 \t [3, 0, 4]\n",
            "2 \t [0, 4, 2]\n",
            "3 \t [4, 2, 3]\n",
            "\n",
            "Total Pages Faults: 8\n"
          ]
        }
      ],
      "source": [
        "pages =[7, 0, 1, 2, 0 ,3 , 0, 4, 2, 3]\n",
        "frames = []\n",
        "capacity =3\n",
        "page_faults =0\n",
        "print(\"page/tFrames\")\n",
        "for p in pages:\n",
        "          if p not in frames:\n",
        "            if len(frames)<capacity:\n",
        "              frames.append(p)\n",
        "            else:\n",
        "                frames.pop(0)\n",
        "                frames.append(p)\n",
        "            page_faults += 1\n",
        "          else:\n",
        "               frames.remove(p)\n",
        "               frames.append(p)\n",
        "          print(p, \"\\t\" ,frames)\n",
        "print(\"\\nTotal Pages Faults:\" ,page_faults)"
      ]
    }
  ]
}